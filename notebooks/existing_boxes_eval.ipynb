{
 "cells": [
  {
   "cell_type": "code",
   "execution_count": 1,
   "metadata": {},
   "outputs": [],
   "source": [
    "import json\n",
    "import os\n",
    "import numpy\n",
    "import matplotlib.pyplot as plt "
   ]
  },
  {
   "cell_type": "code",
   "execution_count": 2,
   "metadata": {},
   "outputs": [],
   "source": [
    "def get_predictions(json_file, lf_thresh):\n",
    "    filtered = []\n",
    "    try:\n",
    "        with open(json_file, 'r') as f:\n",
    "            data = json.load(f)\n",
    "            for item in data:\n",
    "                # split the score and LesionFinder string to get the score and cast it to float\n",
    "                score = float(item['properties']['classification']['name'].split(' ')[-1])\n",
    "                if score >= lf_thresh:\n",
    "                    x0, y0 = item['geometry']['coordinates'][0][0]\n",
    "                    x1, y1 = item['geometry']['coordinates'][0][2]\n",
    "                    x0, y0, x1, y1 = int(x0), int(y0), int(x1), int(y1)\n",
    "                    filtered.append([x0, y0, x1, y1])\n",
    "    except:\n",
    "        pass    \n",
    "    return filtered\n",
    "\n",
    "def get_named_box(json_file, name):\n",
    "    boxes = []\n",
    "    with open(json_file, 'r') as f:\n",
    "        data = json.load(f)\n",
    "        for item in data:\n",
    "            try:\n",
    "                if item['properties']['name'] == name:\n",
    "                    x0, y0 = item['geometry']['coordinates'][0][0]\n",
    "                    x1, y1 = item['geometry']['coordinates'][0][2]\n",
    "                    x0, y0, x1, y1 = int(x0), int(y0), int(x1), int(y1)\n",
    "                    boxes.append([x0, y0, x1, y1])\n",
    "            except:\n",
    "                pass\n",
    "    return boxes\n",
    "\n",
    "def box_named_polygon(json_file, name):\n",
    "    boxes = []\n",
    "    with open(json_file, 'r') as f:\n",
    "        data = json.load(f)\n",
    "        for item in data:\n",
    "            try:\n",
    "                if item['properties']['classification']['name'] == name: # might be just name not classification\n",
    "                    coords = item['geometry']['coordinates'][0]\n",
    "                    x0 = min([x for x, y in coords])\n",
    "                    y0 = min([y for x, y in coords])\n",
    "                    x1 = max([x for x, y in coords])\n",
    "                    y1 = max([y for x, y in coords])\n",
    "                    x0, y0, x1, y1 = int(x0), int(y0), int(x1), int(y1)\n",
    "                    boxes.append([x0, y0, x1, y1])\n",
    "            except:\n",
    "                pass\n",
    "    return boxes\n",
    "\n",
    "def create_mask(img_size, boxes):\n",
    "    mask = numpy.zeros(img_size, dtype=numpy.uint8)\n",
    "    for box in boxes:\n",
    "        x0, y0, x1, y1 = box\n",
    "        mask[y0:y1, x0:x1] = 1\n",
    "    return mask\n",
    "    \n",
    "def image_iou(mask1, mask2):\n",
    "    intersection = numpy.logical_and(mask1, mask2)\n",
    "    union = numpy.logical_or(mask1, mask2)\n",
    "    iou_score = numpy.sum(intersection) / numpy.sum(union)\n",
    "    return iou_score\n",
    "\n",
    "def gt_coverage(mask1, mask2):\n",
    "    intersection = numpy.logical_and(mask1, mask2)\n",
    "    coverage = numpy.sum(intersection) / numpy.sum(mask1)\n",
    "    return coverage"
   ]
  },
  {
   "cell_type": "code",
   "execution_count": 3,
   "metadata": {},
   "outputs": [],
   "source": [
    "gt_file = '/mnt/RSX/Datasets_pathology/SRI_OSCC_lymph_unlabeled/qupath_annotations_test/Case 27 F4.json' \n",
    "pred_file = '/mnt/RSX/Datasets_pathology/SRI_OSCC_lymph_unlabeled/lesion_finder_2000_v3/Case 27 F4.json'\n",
    "\n",
    "gt_boxes = box_named_polygon(gt_file, 'Tumor')\n",
    "pred_boxes = get_predictions(pred_file, 0.7)\n",
    "\n",
    "x_max = max([box[2] for box in gt_boxes + pred_boxes])\n",
    "y_max = max([box[3] for box in gt_boxes + pred_boxes])\n",
    "\n",
    "gt_mask = create_mask((y_max, x_max), gt_boxes)\n",
    "pred_mask = create_mask((y_max, x_max), pred_boxes)"
   ]
  },
  {
   "cell_type": "code",
   "execution_count": 4,
   "metadata": {},
   "outputs": [
    {
     "name": "stdout",
     "output_type": "stream",
     "text": [
      "IoU: 0.0\n",
      "GT coverage: 0.0\n"
     ]
    }
   ],
   "source": [
    "print('IoU:', image_iou(gt_mask, pred_mask))\n",
    "print('GT coverage:', gt_coverage(gt_mask, pred_mask))"
   ]
  },
  {
   "cell_type": "code",
   "execution_count": 5,
   "metadata": {},
   "outputs": [],
   "source": [
    "primary_list = ['Case 24 F2',\n",
    "'Case 24 G1',\n",
    "'Case 25 B7',\n",
    "'Case 25 C1',\n",
    "'Case 26 B12',\n",
    "'Case 27 E8',\n",
    "'Case 27 F1',\n",
    "'Case 28 A3',\n",
    "'Case 28 B1',\n",
    "'Case 29 C2',\n",
    "'Case 30 J8',\n",
    "'Case 31 A10',\n",
    "'Case 32 A5',\n",
    "'Case 33 A7',\n",
    "'Case 34 A5',]"
   ]
  },
  {
   "cell_type": "code",
   "execution_count": 6,
   "metadata": {},
   "outputs": [],
   "source": [
    "def get_pr_curve(gt_dir, pred_dir, name, lf_thresh, det_thresh):\n",
    "    fp = []\n",
    "    fn = []\n",
    "    tp = []\n",
    "    tn = []\n",
    "    good_seg = []\n",
    "    for f in os.listdir(gt_dir):\n",
    "        n = f.split('.')[0]\n",
    "        if n in primary_list:\n",
    "            continue\n",
    "        gt_file = os.path.join(gt_dir, f)\n",
    "        pred_file = os.path.join(pred_dir, f)\n",
    "        gt_boxes = box_named_polygon(gt_file, name)\n",
    "        pred_boxes = get_predictions(pred_file, lf_thresh)\n",
    "        if len(gt_boxes) == 0:\n",
    "            if len(pred_boxes) > 0:\n",
    "               # print('False positive for', f)\n",
    "                fp.append(n)\n",
    "            else:\n",
    "               # print('True negative for', f)\n",
    "                tn.append(n)\n",
    "            continue\n",
    "        if not os.path.exists(pred_file):\n",
    "           # print('False negative for', f)\n",
    "            fn.append(n)\n",
    "            continue\n",
    "        if len(pred_boxes) == 0:\n",
    "           # print('False negative for', f)\n",
    "            fn.append(n)\n",
    "            continue\n",
    "        else:\n",
    "           # print('True positive for', f)\n",
    "            tp.append(n)\n",
    "            x_max = max([box[2] for box in gt_boxes + pred_boxes])\n",
    "            y_max = max([box[3] for box in gt_boxes + pred_boxes])\n",
    "            gt_mask = create_mask((y_max, x_max), gt_boxes)\n",
    "            pred_mask = create_mask((y_max, x_max), pred_boxes)\n",
    "            iou = image_iou(gt_mask, pred_mask)\n",
    "            coverage = gt_coverage(gt_mask, pred_mask)\n",
    "            if coverage > det_thresh:\n",
    "              #  print('GOOD SEG!')\n",
    "                good_seg.append(n)\n",
    "    return fp, fn, tp, tn, good_seg"
   ]
  },
  {
   "cell_type": "code",
   "execution_count": 8,
   "metadata": {},
   "outputs": [
    {
     "name": "stdout",
     "output_type": "stream",
     "text": [
      "AUC: -0.10644531250000003\n"
     ]
    },
    {
     "data": {
      "text/plain": [
       "Text(0.5, 1.0, 'Image-wise ROC Curve for LF')"
      ]
     },
     "execution_count": 8,
     "metadata": {},
     "output_type": "execute_result"
    },
    {
     "data": {
      "image/png": "[encoded data removed]",
      "text/plain": [
       "<Figure size 640x480 with 1 Axes>"
      ]
     },
     "metadata": {},
     "output_type": "display_data"
    }
   ],
   "source": [
    "threshs = [0.1, 0.15, 0.2, 0.25, 0.3, 0.35, 0.4, 0.45, 0.5, 0.55, 0.6, 0.65, 0.7, 0.75, 0.8, 0.85, 0.9, 0.95]\n",
    "#thresh = 0.7\n",
    "d_thresh = 0.5\n",
    "tprs = []\n",
    "fprs = []\n",
    "gt_dir = '/mnt/RSX/Datasets_pathology/SRI_OSCC_lymph_unlabeled/qupath_annotations_test'\n",
    "pred_dir = '/mnt/RSX/Datasets_pathology/SRI_OSCC_lymph_unlabeled/lesion_finder_2000_minthresh'\n",
    "name = 'Tumor'\n",
    "for thresh in threshs:\n",
    "    info = get_pr_curve(gt_dir, pred_dir, name, thresh, d_thresh)\n",
    "    tpr = len(info[2]) / (len(info[2]) + len(info[1]))\n",
    "    fpr = len(info[0]) / (len(info[0]) + len(info[3]))\n",
    "    tprs.append(tpr)\n",
    "    fprs.append(fpr)\n",
    "    \n",
    "plt.scatter(fprs, tprs)\n",
    "#calculate AUC\n",
    "auc = numpy.trapz(fprs, tprs)\n",
    "print('AUC:', auc)\n",
    "plt.ylim(0, 1.1)\n",
    "plt.xlim(0, 1.1)\n",
    "plt.xlabel('False Positive Rate')\n",
    "plt.ylabel('True Positive Rate')\n",
    "plt.title('Image-wise ROC Curve for LF')\n"
   ]
  },
  {
   "cell_type": "code",
   "execution_count": 9,
   "metadata": {},
   "outputs": [
    {
     "name": "stdout",
     "output_type": "stream",
     "text": [
      "[0.9609375, 0.9453125, 0.8984375, 0.875, 0.78125, 0.7578125, 0.71875, 0.65625, 0.609375, 0.578125, 0.5703125, 0.5703125, 0.5234375, 0.5, 0.46875, 0.421875, 0.34375, 0.2421875] [1.0, 1.0, 1.0, 1.0, 1.0, 1.0, 1.0, 1.0, 1.0, 1.0, 1.0, 1.0, 1.0, 1.0, 0.95, 0.95, 0.85, 0.7]\n"
     ]
    }
   ],
   "source": [
    "print(fprs, tprs)"
   ]
  }
 ],
 "metadata": {
  "kernelspec": {
   "display_name": "roi_inference",
   "language": "python",
   "name": "python3"
  },
  "language_info": {
   "codemirror_mode": {
    "name": "ipython",
    "version": 3
   },
   "file_extension": ".py",
   "mimetype": "text/x-python",
   "name": "python",
   "nbconvert_exporter": "python",
   "pygments_lexer": "ipython3",
   "version": "3.9.7"
  }
 },
 "nbformat": 4,
 "nbformat_minor": 2
}
