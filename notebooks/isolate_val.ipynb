{
 "cells": [
  {
   "cell_type": "code",
   "execution_count": 14,
   "metadata": {},
   "outputs": [],
   "source": [
    "import json\n",
    "import numpy as np \n",
    "import pandas as pd\n",
    "import os\n"
   ]
  },
  {
   "cell_type": "code",
   "execution_count": 15,
   "metadata": {},
   "outputs": [
    {
     "name": "stdout",
     "output_type": "stream",
     "text": [
      "['test_011', 'tumor_040', 'tumor_006', 'tumor_046', 'tumor_034', 'test_110', 'normal_016', 'test_048', 'test_076', 'test_021', 'test_079', 'tumor_044', 'test_050', 'tumor_090', 'tumor_048', 'test_009', 'tumor_013', 'normal_047', 'tumor_073', 'tumor_050', 'test_128', 'test_115', 'tumor_017', 'tumor_079', 'normal_015', 'patient_004_node_4', 'test_071', 'test_063', 'test_098', 'test_129', 'tumor_085', 'test_107', 'test_041', 'test_114', 'test_074', 'tumor_055', 'normal_039', 'tumor_012', 'test_029', 'test_005', 'tumor_071', 'normal_031', 'tumor_051', 'test_064', 'test_008', 'test_062', 'tumor_021', 'normal_001', 'test_037', 'test_113', 'test_051', 'test_120', 'normal_045', 'tumor_011', 'tumor_074']\n"
     ]
    }
   ],
   "source": [
    "with open('/home/chao_lab/SynologyDrive/chaolab_AI_path/unbiased_teacher2/completed_outputs/cam_2024/inference/coco_instances_results.json') as f:\n",
    "    data = json.load(f)\n",
    "    \n",
    "# find unique \"image_id\"\n",
    "image_id = []\n",
    "for i in data:\n",
    "    image_id.append(i['image_id'])\n",
    "image_id = list(set(image_id))\n",
    "print(image_id)"
   ]
  },
  {
   "cell_type": "code",
   "execution_count": 36,
   "metadata": {},
   "outputs": [
    {
     "name": "stdout",
     "output_type": "stream",
     "text": [
      "ok\n",
      "ok\n",
      "ok\n",
      "ok\n",
      "ok\n",
      "ok\n",
      "ok\n",
      "ok\n",
      "ok\n",
      "ok\n",
      "ok\n",
      "ok\n",
      "ok\n",
      "ok\n",
      "ok\n",
      "ok\n",
      "ok\n",
      "ok\n",
      "ok\n",
      "ok\n",
      "ok\n",
      "ok\n",
      "ok\n",
      "ok\n",
      "ok\n",
      "ok\n",
      "ok\n"
     ]
    }
   ],
   "source": [
    "# if file in folder exists in \"image_id\", then COPY it to new_dir\n",
    "\n",
    "tf_dir = '/mnt/RSX/Datasets_pathology/Cam16_train/' \n",
    "new_dir = '/mnt/RSX/Datasets_pathology/Cam_benchmarking'\n",
    "\n",
    "for output in os.listdir(tf_dir):\n",
    "    if output.endswith('.tif'):\n",
    "        if (f'{(output.split(\"_\")[0])}_{output.split(\"_\")[1].split(\".\")[0]}') in image_id:\n",
    "            os.system(f'cp {tf_dir}/{output} {new_dir}/{output}')\n",
    "            print(f'cp {tf_dir}/{output} {new_dir}/{output}')\n",
    "            "
   ]
  },
  {
   "cell_type": "code",
   "execution_count": null,
   "metadata": {},
   "outputs": [],
   "source": []
  }
 ],
 "metadata": {
  "kernelspec": {
   "display_name": "AI_path",
   "language": "python",
   "name": "python3"
  },
  "language_info": {
   "codemirror_mode": {
    "name": "ipython",
    "version": 3
   },
   "file_extension": ".py",
   "mimetype": "text/x-python",
   "name": "python",
   "nbconvert_exporter": "python",
   "pygments_lexer": "ipython3",
   "version": "3.9.18"
  }
 },
 "nbformat": 4,
 "nbformat_minor": 2
}
