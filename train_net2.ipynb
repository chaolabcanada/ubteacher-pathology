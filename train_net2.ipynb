{
 "cells": [
  {
   "cell_type": "markdown",
   "metadata": {},
   "source": [
    "Plan: use qupath_annotations_latest instead of TissueAnnotator outputs for loading -- consistency across datasets and easier to use.\n",
    "1. Load only information relevant to the task at hand from json\n",
    "2. Load npy files for each image from dir, with option to create\n",
    "3. Register the dataset\n",
    "4. Idk"
   ]
  },
  {
   "cell_type": "code",
   "execution_count": 24,
   "metadata": {},
   "outputs": [],
   "source": [
    "from ubteacher.utils.train2_utils import (parse_json_by_task, \n",
    "                                          search_recursive, \n",
    "                                          get_coco_format)"
   ]
  },
  {
   "cell_type": "code",
   "execution_count": 25,
   "metadata": {},
   "outputs": [],
   "source": [
    "train_sample = '/mnt/RSX/Datasets_pathology/SRI_OSCC_lymph_train'"
   ]
  },
  {
   "cell_type": "code",
   "execution_count": 26,
   "metadata": {},
   "outputs": [],
   "source": [
    "json_file = '/mnt/RSX/Datasets_pathology/SRI_OSCC_lymph_train/qupath_annotations_latest/Case 1 G7.json'\n",
    "npy_folder = '/mnt/RSX/Datasets_pathology/GT_2023/TissueFinderV2'\n",
    "data = parse_json_by_task(json_file)\n",
    "tissue_types = ['lymph', 'non-lymph']\n",
    "tissue_data = []\n",
    "for i in data:\n",
    "    if any(tissue in list(search_recursive(i, 'name')) for tissue in tissue_types):\n",
    "        tissue_data.append(i)"
   ]
  },
  {
   "cell_type": "code",
   "execution_count": 27,
   "metadata": {},
   "outputs": [
    {
     "data": {
      "text/plain": [
       "(array([[[243, 243, 243],\n",
       "         [243, 243, 243],\n",
       "         [244, 244, 244],\n",
       "         ...,\n",
       "         [241, 242, 242],\n",
       "         [241, 242, 242],\n",
       "         [242, 242, 241]],\n",
       " \n",
       "        [[243, 244, 244],\n",
       "         [243, 244, 244],\n",
       "         [244, 244, 244],\n",
       "         ...,\n",
       "         [241, 241, 242],\n",
       "         [241, 242, 242],\n",
       "         [242, 242, 241]],\n",
       " \n",
       "        [[243, 244, 244],\n",
       "         [243, 244, 243],\n",
       "         [244, 243, 243],\n",
       "         ...,\n",
       "         [241, 241, 242],\n",
       "         [241, 241, 242],\n",
       "         [241, 241, 242]],\n",
       " \n",
       "        ...,\n",
       " \n",
       "        [[244, 244, 244],\n",
       "         [245, 244, 244],\n",
       "         [244, 243, 242],\n",
       "         ...,\n",
       "         [242, 242, 242],\n",
       "         [243, 242, 242],\n",
       "         [243, 242, 242]],\n",
       " \n",
       "        [[244, 244, 244],\n",
       "         [244, 244, 244],\n",
       "         [245, 245, 244],\n",
       "         ...,\n",
       "         [243, 243, 242],\n",
       "         [243, 242, 242],\n",
       "         [243, 242, 242]],\n",
       " \n",
       "        [[244, 244, 244],\n",
       "         [244, 244, 244],\n",
       "         [244, 245, 244],\n",
       "         ...,\n",
       "         [243, 243, 242],\n",
       "         [243, 242, 242],\n",
       "         [243, 242, 242]]], dtype=uint8),\n",
       " [{'file_name': '/mnt/RSX/Datasets_pathology/GT_2023/TissueFinderV2/Case 1 G7.npy',\n",
       "   'height': 2166,\n",
       "   'width': 2560,\n",
       "   'image_id': 'Case 1 G7',\n",
       "   'annotations': [{'category_id': 1,\n",
       "     'bbox_mode': 0,\n",
       "     'bbox': [7626, 824, 20274, 14196]},\n",
       "    {'category_id': 1, 'bbox_mode': 0, 'bbox': [845, 5638, 11363, 17002]}]}],\n",
       " {'lymph': 0, 'non-lymph': 1})"
      ]
     },
     "execution_count": 27,
     "metadata": {},
     "output_type": "execute_result"
    }
   ],
   "source": [
    "img, dataset_dicts, cat_map = get_coco_format(train_sample, 1333, 2560, npy_folder, json_file, tissue_types)"
   ]
  }
 ],
 "metadata": {
  "kernelspec": {
   "display_name": "AI_path",
   "language": "python",
   "name": "python3"
  },
  "language_info": {
   "codemirror_mode": {
    "name": "ipython",
    "version": 3
   },
   "file_extension": ".py",
   "mimetype": "text/x-python",
   "name": "python",
   "nbconvert_exporter": "python",
   "pygments_lexer": "ipython3",
   "version": "3.9.18"
  }
 },
 "nbformat": 4,
 "nbformat_minor": 2
}
