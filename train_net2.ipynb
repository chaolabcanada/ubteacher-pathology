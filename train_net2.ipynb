{
 "cells": [
  {
   "cell_type": "code",
   "execution_count": 13,
   "metadata": {},
   "outputs": [],
   "source": [
    "from detectron2.checkpoint import DetectionCheckpointer\n",
    "from detectron2.data import DatasetCatalog, MetadataCatalog\n",
    "from detectron2.config import get_cfg\n",
    "from detectron2.engine import default_argument_parser, default_setup, launch\n",
    "from typing import Dict, Set, List, Tuple, Iterator\n",
    "import os\n",
    "import logging\n",
    "import json\n",
    "import copy\n",
    "\n",
    "# hacky way to register\n",
    "from ubteacher.modeling import *\n",
    "from ubteacher.engine import *\n",
    "from ubteacher.engine.trainer import UBTeacherTrainer, UBRCNNTeacherTrainer, BaselineTrainer\n",
    "from ubteacher import add_ubteacher_config\n",
    "from ubteacher.utils.utils import (TrainHelper, \n",
    "                    get_categorical_map, \n",
    "                    get_annotypes_for_dataset)"
   ]
  },
  {
   "cell_type": "code",
   "execution_count": 16,
   "metadata": {},
   "outputs": [],
   "source": [
    "train_sample = '/mnt/RSX/Datasets_pathology/SRI_OSCC_lymph_train'"
   ]
  },
  {
   "cell_type": "code",
   "execution_count": 53,
   "metadata": {},
   "outputs": [],
   "source": [
    "def find_anno_dir(parent_dir: str) -> List[str]:\n",
    "    \"\"\"\n",
    "    Find qupath exported annotations directory\n",
    "    \"\"\"\n",
    "    \n",
    "    if os.path.exists(os.path.join(parent_dir, 'xupath_annotations_latest')):\n",
    "        return os.path.join(parent_dir, 'qupath_annotations_latest')\n",
    "    else:\n",
    "        anno_dirs = []\n",
    "        for root, dirs, files in os.walk(parent_dir):\n",
    "            for d in dirs:\n",
    "                if 'annotations' in d:\n",
    "                    anno_dirs.append(os.path.join(root, d))\n",
    "        # user chooses if there are multiple annotation folders\n",
    "        print('Found multiple annotation folders:')\n",
    "        for i, anno_dir in enumerate(anno_dirs):\n",
    "            print(f'{i}: {os.path.relpath(anno_dir, parent_dir)}')\n",
    "        choice = input('Choose annotation folder index')\n",
    "        if choice.isdigit() and int(choice) < len(anno_dirs):\n",
    "            return anno_dirs[int(choice)]    \n",
    "        else:\n",
    "            raise ValueError('Annotation folder not found')"
   ]
  },
  {
   "cell_type": "code",
   "execution_count": 110,
   "metadata": {},
   "outputs": [],
   "source": [
    "def search_recursive(d: Dict, key: str) -> Iterator:\n",
    "        \"\"\"Helper function for finding which level of json annotations has\n",
    "        the matching key.\n",
    "        \"\"\"\n",
    "        for k, v in d.items():\n",
    "            if isinstance(v, Dict):\n",
    "                for match in search_recursive(v, key):\n",
    "                    yield match\n",
    "            if k == key:\n",
    "                # generator function - saves in memory until called\n",
    "                # (use for loop to call)\n",
    "                yield v"
   ]
  },
  {
   "cell_type": "code",
   "execution_count": 89,
   "metadata": {},
   "outputs": [
    {
     "name": "stdout",
     "output_type": "stream",
     "text": [
      "Found multiple annotation folders:\n",
      "0: qupath_annotations_latest\n",
      "1: qupath_annotations_V4\n",
      "2: qupath_annotations_V3\n",
      "3: qupath_annotations_V2\n",
      "4: qupath_annotations_V1\n"
     ]
    },
    {
     "ename": "ValueError",
     "evalue": "Annotation folder not found",
     "output_type": "error",
     "traceback": [
      "\u001b[0;31m---------------------------------------------------------------------------\u001b[0m",
      "\u001b[0;31mValueError\u001b[0m                                Traceback (most recent call last)",
      "\u001b[1;32m/home/chao_lab/SynologyDrive/chaolab_AI_path/unbiased_teacher2/train_net2.ipynb Cell 5\u001b[0m line \u001b[0;36m1\n\u001b[0;32m----> <a href='vscode-notebook-cell://ssh-remote%2B7b22686f73744e616d65223a2252535f50726f78794a756d70227d/home/chao_lab/SynologyDrive/chaolab_AI_path/unbiased_teacher2/train_net2.ipynb#W3sdnNjb2RlLXJlbW90ZQ%3D%3D?line=0'>1</a>\u001b[0m find_anno_dir(train_sample)\n",
      "\u001b[1;32m/home/chao_lab/SynologyDrive/chaolab_AI_path/unbiased_teacher2/train_net2.ipynb Cell 5\u001b[0m line \u001b[0;36m2\n\u001b[1;32m     <a href='vscode-notebook-cell://ssh-remote%2B7b22686f73744e616d65223a2252535f50726f78794a756d70227d/home/chao_lab/SynologyDrive/chaolab_AI_path/unbiased_teacher2/train_net2.ipynb#W3sdnNjb2RlLXJlbW90ZQ%3D%3D?line=19'>20</a>\u001b[0m     \u001b[39mreturn\u001b[39;00m anno_dirs[\u001b[39mint\u001b[39m(choice)]    \n\u001b[1;32m     <a href='vscode-notebook-cell://ssh-remote%2B7b22686f73744e616d65223a2252535f50726f78794a756d70227d/home/chao_lab/SynologyDrive/chaolab_AI_path/unbiased_teacher2/train_net2.ipynb#W3sdnNjb2RlLXJlbW90ZQ%3D%3D?line=20'>21</a>\u001b[0m \u001b[39melse\u001b[39;00m:\n\u001b[0;32m---> <a href='vscode-notebook-cell://ssh-remote%2B7b22686f73744e616d65223a2252535f50726f78794a756d70227d/home/chao_lab/SynologyDrive/chaolab_AI_path/unbiased_teacher2/train_net2.ipynb#W3sdnNjb2RlLXJlbW90ZQ%3D%3D?line=21'>22</a>\u001b[0m     \u001b[39mraise\u001b[39;00m \u001b[39mValueError\u001b[39;00m(\u001b[39m'\u001b[39m\u001b[39mAnnotation folder not found\u001b[39m\u001b[39m'\u001b[39m)\n",
      "\u001b[0;31mValueError\u001b[0m: Annotation folder not found"
     ]
    }
   ],
   "source": [
    "find_anno_dir(train_sample)"
   ]
  },
  {
   "cell_type": "code",
   "execution_count": 90,
   "metadata": {},
   "outputs": [],
   "source": [
    "def parse_json_by_task(json_file):\n",
    "    \"\"\"\n",
    "    Parse json file by task\n",
    "    \"\"\"\n",
    "    with open(json_file, 'r') as f:\n",
    "        data = json.load(f)\n",
    "        return data"
   ]
  },
  {
   "cell_type": "code",
   "execution_count": 125,
   "metadata": {},
   "outputs": [],
   "source": [
    "json_file = '/mnt/RSX/Datasets_pathology/SRI_OSCC_lymph_train/qupath_annotations_latest/Case 1 G7.json'\n",
    "data = parse_json_by_task(json_file)\n",
    "tissue_types = ['lymph', 'non-lymph']\n",
    "tissue_data = []\n",
    "for i in data:\n",
    "    if any(tissue in list(search_recursive(i, 'name')) for tissue in tissue_types):\n",
    "        tissue_data.append(i)"
   ]
  },
  {
   "cell_type": "code",
   "execution_count": 169,
   "metadata": {},
   "outputs": [],
   "source": [
    "# get coordinates for all relevant tissues and create boxes\n",
    "\n",
    "def get_box_coords(json_file, tissue_types):\n",
    "    \n",
    "    with open(json_file, 'r') as f:\n",
    "        data = json.load(f)\n",
    "    tissue_data = []\n",
    "    for i in data:\n",
    "        if any(tissue in list(search_recursive(i, 'name')) for tissue in tissue_types):\n",
    "            tissue_data.append(i)\n",
    "    coords = []\n",
    "    for k in tissue_data:\n",
    "        ## add names to k \n",
    "        k['geometry']['name'] = list(search_recursive(k, 'name'))[0]\n",
    "        del k['geometry']['type']\n",
    "        coords.append(next(search_recursive(k, 'geometry')))\n",
    "        \n",
    "    return coords"
   ]
  },
  {
   "cell_type": "code",
   "execution_count": 168,
   "metadata": {},
   "outputs": [
    {
     "data": {
      "text/plain": [
       "[{'coordinates': [[[14701, 1589],\n",
       "    [39083, 1589],\n",
       "    [39083, 27357],\n",
       "    [14701, 27357],\n",
       "    [14701, 1589]]],\n",
       "  'name': 'non-lymph'},\n",
       " {'coordinates': [[[1629, 10865],\n",
       "    [21905, 10865],\n",
       "    [21905, 32764],\n",
       "    [1629, 32764],\n",
       "    [1629, 10865]]],\n",
       "  'name': 'non-lymph'}]"
      ]
     },
     "execution_count": 168,
     "metadata": {},
     "output_type": "execute_result"
    }
   ],
   "source": [
    "get_box_coords(json_file, tissue_types)"
   ]
  },
  {
   "cell_type": "code",
   "execution_count": null,
   "metadata": {},
   "outputs": [],
   "source": [
    "## get to detectron2 coco format"
   ]
  }
 ],
 "metadata": {
  "kernelspec": {
   "display_name": "AI_path",
   "language": "python",
   "name": "python3"
  },
  "language_info": {
   "codemirror_mode": {
    "name": "ipython",
    "version": 3
   },
   "file_extension": ".py",
   "mimetype": "text/x-python",
   "name": "python",
   "nbconvert_exporter": "python",
   "pygments_lexer": "ipython3",
   "version": "3.9.18"
  }
 },
 "nbformat": 4,
 "nbformat_minor": 2
}
