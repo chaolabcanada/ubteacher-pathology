{
 "cells": [
  {
   "cell_type": "code",
   "execution_count": 13,
   "metadata": {},
   "outputs": [],
   "source": [
    "from detectron2.checkpoint import DetectionCheckpointer\n",
    "from detectron2.data import DatasetCatalog, MetadataCatalog\n",
    "from detectron2.config import get_cfg\n",
    "from detectron2.engine import default_argument_parser, default_setup, launch\n",
    "from typing import Dict, Set, List, Tuple, Iterator\n",
    "import os\n",
    "import logging\n",
    "import json\n",
    "import copy\n",
    "\n",
    "# hacky way to register\n",
    "from ubteacher.modeling import *\n",
    "from ubteacher.engine import *\n",
    "from ubteacher.engine.trainer import UBTeacherTrainer, UBRCNNTeacherTrainer, BaselineTrainer\n",
    "from ubteacher import add_ubteacher_config\n",
    "from ubteacher.utils.utils import (TrainHelper, \n",
    "                    get_categorical_map, \n",
    "                    get_annotypes_for_dataset)"
   ]
  },
  {
   "cell_type": "code",
   "execution_count": 16,
   "metadata": {},
   "outputs": [],
   "source": [
    "train_sample = '/mnt/RSX/Datasets_pathology/SRI_OSCC_lymph_train'"
   ]
  },
  {
   "cell_type": "code",
   "execution_count": 51,
   "metadata": {},
   "outputs": [],
   "source": [
    "def find_anno_dir(parent_dir: str) -> List[str]:\n",
    "    \"\"\"\n",
    "    Find qupath exported annotations directory\n",
    "    \"\"\"\n",
    "    \n",
    "    if os.path.exists(os.path.join(parent_dir, 'xupath_annotations_latest')):\n",
    "        return os.path.join(parent_dir, 'qupath_annotations_latest')\n",
    "    else:\n",
    "        anno_dirs = []\n",
    "        for root, dirs, files in os.walk(parent_dir):\n",
    "            for d in dirs:\n",
    "                if 'annotations' in d:\n",
    "                    anno_dirs.append(os.path.join(root, d))\n",
    "        # user chooses if there are multiple annotation folders\n",
    "        print('Found multiple annotation folders:')\n",
    "        for i, anno_dir in enumerate(anno_dirs):\n",
    "            print(f'{i}: {os.path.relpath(anno_dir, parent_dir)}')\n",
    "        choice = input('Choose annotation folder index')\n",
    "        if choice.isdigit() and int(choice) < len(anno_dirs):\n",
    "            return anno_dirs[int(choice)]    \n",
    "        else:\n",
    "            raise ValueError('Annotation folder not found')"
   ]
  },
  {
   "cell_type": "code",
   "execution_count": 52,
   "metadata": {},
   "outputs": [
    {
     "name": "stdout",
     "output_type": "stream",
     "text": [
      "Found multiple annotation folders:\n",
      "0: qupath_annotations_latest\n",
      "1: qupath_annotations_V4\n",
      "2: qupath_annotations_V3\n",
      "3: qupath_annotations_V2\n",
      "4: qupath_annotations_V1\n"
     ]
    },
    {
     "data": {
      "text/plain": [
       "'/mnt/RSX/Datasets_pathology/SRI_OSCC_lymph_train/qupath_annotations_latest'"
      ]
     },
     "execution_count": 52,
     "metadata": {},
     "output_type": "execute_result"
    }
   ],
   "source": [
    "find_anno_dir(train_sample)"
   ]
  },
  {
   "cell_type": "code",
   "execution_count": null,
   "metadata": {},
   "outputs": [],
   "source": []
  }
 ],
 "metadata": {
  "kernelspec": {
   "display_name": "AI_path",
   "language": "python",
   "name": "python3"
  },
  "language_info": {
   "codemirror_mode": {
    "name": "ipython",
    "version": 3
   },
   "file_extension": ".py",
   "mimetype": "text/x-python",
   "name": "python",
   "nbconvert_exporter": "python",
   "pygments_lexer": "ipython3",
   "version": "3.9.18"
  }
 },
 "nbformat": 4,
 "nbformat_minor": 2
}
