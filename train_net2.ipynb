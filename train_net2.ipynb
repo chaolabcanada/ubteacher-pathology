{
 "cells": [
  {
   "cell_type": "markdown",
   "metadata": {},
   "source": [
    "Plan: use qupath_annotations_latest instead of TissueAnnotator outputs for loading -- consistency across datasets and easier to use.\n",
    "1. Load only information relevant to the task at hand from json\n",
    "2. Load npy files for each image from dir, with option to create\n",
    "3. Register the dataset\n",
    "4. Idk"
   ]
  },
  {
   "cell_type": "code",
   "execution_count": 7,
   "metadata": {},
   "outputs": [],
   "source": [
    "from detectron2.checkpoint import DetectionCheckpointer\n",
    "from detectron2.data import DatasetCatalog, MetadataCatalog\n",
    "from detectron2.config import get_cfg\n",
    "from detectron2.engine import default_argument_parser, default_setup, launch\n",
    "from typing import Dict, Set, List, Tuple, Iterator\n",
    "import os\n",
    "import logging\n",
    "import json\n",
    "import copy"
   ]
  },
  {
   "cell_type": "code",
   "execution_count": 8,
   "metadata": {},
   "outputs": [],
   "source": [
    "train_sample = '/mnt/RSX/Datasets_pathology/SRI_OSCC_lymph_train'"
   ]
  },
  {
   "cell_type": "code",
   "execution_count": 9,
   "metadata": {},
   "outputs": [],
   "source": [
    "def find_anno_dir(parent_dir: str) -> List[str]:\n",
    "    \"\"\"\n",
    "    Find qupath exported annotations directory\n",
    "    \"\"\"\n",
    "    \n",
    "    if os.path.exists(os.path.join(parent_dir, 'xupath_annotations_latest')):\n",
    "        return os.path.join(parent_dir, 'qupath_annotations_latest')\n",
    "    else:\n",
    "        anno_dirs = []\n",
    "        for root, dirs, files in os.walk(parent_dir):\n",
    "            for d in dirs:\n",
    "                if 'annotations' in d:\n",
    "                    anno_dirs.append(os.path.join(root, d))\n",
    "        # user chooses if there are multiple annotation folders\n",
    "        print('Found multiple annotation folders:')\n",
    "        for i, anno_dir in enumerate(anno_dirs):\n",
    "            print(f'{i}: {os.path.relpath(anno_dir, parent_dir)}')\n",
    "        choice = input('Choose annotation folder index')\n",
    "        if choice.isdigit() and int(choice) < len(anno_dirs):\n",
    "            return anno_dirs[int(choice)]    \n",
    "        else:\n",
    "            raise ValueError('Annotation folder not found')"
   ]
  },
  {
   "cell_type": "code",
   "execution_count": 10,
   "metadata": {},
   "outputs": [],
   "source": [
    "def search_recursive(d: Dict, key: str) -> Iterator:\n",
    "        \"\"\"Helper function for finding which level of json annotations has\n",
    "        the matching key.\n",
    "        \"\"\"\n",
    "        for k, v in d.items():\n",
    "            if isinstance(v, Dict):\n",
    "                for match in search_recursive(v, key):\n",
    "                    yield match\n",
    "            if k == key:\n",
    "                # generator function - saves in memory until called\n",
    "                # (use for loop to call)\n",
    "                yield v"
   ]
  },
  {
   "cell_type": "code",
   "execution_count": 11,
   "metadata": {},
   "outputs": [
    {
     "name": "stdout",
     "output_type": "stream",
     "text": [
      "Found multiple annotation folders:\n",
      "0: qupath_annotations_latest\n",
      "1: qupath_annotations_V4\n",
      "2: qupath_annotations_V3\n",
      "3: qupath_annotations_V2\n",
      "4: qupath_annotations_V1\n"
     ]
    },
    {
     "data": {
      "text/plain": [
       "'/mnt/RSX/Datasets_pathology/SRI_OSCC_lymph_train/qupath_annotations_latest'"
      ]
     },
     "execution_count": 11,
     "metadata": {},
     "output_type": "execute_result"
    }
   ],
   "source": [
    "find_anno_dir(train_sample)"
   ]
  },
  {
   "cell_type": "code",
   "execution_count": 12,
   "metadata": {},
   "outputs": [],
   "source": [
    "def parse_json_by_task(json_file):\n",
    "    \"\"\"\n",
    "    Parse json file by task\n",
    "    \"\"\"\n",
    "    with open(json_file, 'r') as f:\n",
    "        data = json.load(f)\n",
    "        return data"
   ]
  },
  {
   "cell_type": "code",
   "execution_count": 98,
   "metadata": {},
   "outputs": [],
   "source": [
    "json_file = '/mnt/RSX/Datasets_pathology/SRI_OSCC_lymph_train/qupath_annotations_latest/Case 1 G7.json'\n",
    "data = parse_json_by_task(json_file)\n",
    "tissue_types = ['lymph', 'non-lymph']\n",
    "tissue_data = []\n",
    "for i in data:\n",
    "    if any(tissue in list(search_recursive(i, 'name')) for tissue in tissue_types):\n",
    "        tissue_data.append(i)"
   ]
  },
  {
   "cell_type": "code",
   "execution_count": 111,
   "metadata": {},
   "outputs": [],
   "source": [
    "\n",
    "## scale bbox, convert to xyxy from [x1y1, x2y1, x2y2, x1y2] \n",
    "# rename key to bbox\n",
    "\n",
    "def scale_bboxes_qupath(anno, ref_dim, target_dim):\n",
    "    x_scale = ref_dim[1] / target_dim[1]\n",
    "    y_scale = ref_dim[0] / target_dim[0]\n",
    "    for i in anno:\n",
    "        [coords] = i['coordinates']\n",
    "        # First, build XYXY\n",
    "        x0 = int(coords[0][0] / x_scale)\n",
    "        y0 = int(coords[0][1] / y_scale)\n",
    "        x1 = int(coords[2][0] / x_scale)\n",
    "        y1 = int(coords[2][1] / y_scale)\n",
    "        i['bbox'] = [x0, y0, x1, y1]\n",
    "        del i['coordinates']\n",
    "        # make it as 'bbox': asdjhkf\n",
    "    return anno\n",
    "        \n",
    "#scale_bboxes_qupath(anno_info, [2,2], [1,1])  \n",
    "    "
   ]
  },
  {
   "cell_type": "code",
   "execution_count": 125,
   "metadata": {},
   "outputs": [],
   "source": [
    "# get coordinates for all relevant tissues and create boxes\n",
    "\n",
    "def get_boxes(json_file, ref_dim, target_dim, tissue_types):\n",
    "    \n",
    "    with open(json_file, 'r') as f:\n",
    "        data = json.load(f)\n",
    "    tissue_data = []\n",
    "    for i in data:\n",
    "        if any(tissue in list(search_recursive(i, 'name')) for tissue in tissue_types):\n",
    "            tissue_data.append(i)\n",
    "    cat_map = {tissue: i for i, tissue in enumerate(tissue_types)}\n",
    "    coords = []\n",
    "    for k in tissue_data:\n",
    "        ## add names to k \n",
    "        k['geometry']['category_id'] = cat_map[next(search_recursive(k, 'name'))]\n",
    "        del k['geometry']['type']\n",
    "        k['geometry']['bbox_mode'] = 0\n",
    "        coords.append(next(search_recursive(k, 'geometry')))\n",
    "    \n",
    "    out = scale_bboxes_qupath(coords, ref_dim, target_dim)\n",
    "    return coords, cat_map"
   ]
  },
  {
   "cell_type": "code",
   "execution_count": 126,
   "metadata": {},
   "outputs": [
    {
     "data": {
      "text/plain": [
       "([{'category_id': 1, 'bbox_mode': 0, 'bbox': [7350, 794, 19541, 13678]},\n",
       "  {'category_id': 1, 'bbox_mode': 0, 'bbox': [814, 5432, 10952, 16382]}],\n",
       " {'lymph': 0, 'non-lymph': 1})"
      ]
     },
     "execution_count": 126,
     "metadata": {},
     "output_type": "execute_result"
    }
   ],
   "source": [
    "annotation_dicts, cat_map = get_boxes(json_file, ref_dim, target_dim, tissue_types)"
   ]
  },
  {
   "cell_type": "code",
   "execution_count": 26,
   "metadata": {},
   "outputs": [],
   "source": [
    "+## get to detectron2 coco format\n",
    "\n",
    "## [{'file_name': '/mnt/RSX/Datasets_pathology/GT_2023/TissueFinderV2/Case 9 M3.npy', \n",
    "# 'height': 1649, \n",
    "# 'width': 2560, \n",
    "# 'image_id': 'Case 9 M3',\n",
    "# 'annotations': [{'category_id': 0, 'bbox': [97, 222, 1190, 1558], 'bbox_mode': 0}, {'category_id': 0, 'bbox': [1407, 435, 2410, 1629], 'bbox_mode': 0}]}, "
   ]
  },
  {
   "cell_type": "code",
   "execution_count": 27,
   "metadata": {},
   "outputs": [],
   "source": [
    "def get_coco_format(parent_dir, json_file, tissue_types):\n",
    "    \"\"\"\n",
    "    Get coco format for detectron2\n",
    "    \"\"\"\n",
    "    ## Determine image format\n",
    "    fmt = os.path.splitext(os.listdir(parent_dir)[0])[1]\n",
    "    print(fmt)\n",
    "    info = get_boxes(json_file, tissue_types)\n",
    "    for i in info:\n",
    "        \n",
    "    # coco_format = []engine\n",
    "    "
   ]
  },
  {
   "cell_type": "code",
   "execution_count": 23,
   "metadata": {},
   "outputs": [
    {
     "name": "stdout",
     "output_type": "stream",
     "text": [
      ".svs\n"
     ]
    },
    {
     "ename": "TypeError",
     "evalue": "list indices must be integers or slices, not str",
     "output_type": "error",
     "traceback": [
      "\u001b[0;31m---------------------------------------------------------------------------\u001b[0m",
      "\u001b[0;31mTypeError\u001b[0m                                 Traceback (most recent call last)",
      "\u001b[1;32m/home/chao_lab/SynologyDrive/chaolab_AI_path/unbiased_teacher2/train_net2.ipynb Cell 12\u001b[0m line \u001b[0;36m1\n\u001b[0;32m----> <a href='vscode-notebook-cell://ssh-remote%2B7b22686f73744e616d65223a2252535f50726f78794a756d70227d/home/chao_lab/SynologyDrive/chaolab_AI_path/unbiased_teacher2/train_net2.ipynb#X15sdnNjb2RlLXJlbW90ZQ%3D%3D?line=0'>1</a>\u001b[0m get_coco_format(train_sample, json_file, tissue_types)\n",
      "\u001b[1;32m/home/chao_lab/SynologyDrive/chaolab_AI_path/unbiased_teacher2/train_net2.ipynb Cell 12\u001b[0m line \u001b[0;36m8\n\u001b[1;32m      <a href='vscode-notebook-cell://ssh-remote%2B7b22686f73744e616d65223a2252535f50726f78794a756d70227d/home/chao_lab/SynologyDrive/chaolab_AI_path/unbiased_teacher2/train_net2.ipynb#X15sdnNjb2RlLXJlbW90ZQ%3D%3D?line=5'>6</a>\u001b[0m fmt \u001b[39m=\u001b[39m os\u001b[39m.\u001b[39mpath\u001b[39m.\u001b[39msplitext(os\u001b[39m.\u001b[39mlistdir(parent_dir)[\u001b[39m0\u001b[39m])[\u001b[39m1\u001b[39m]\n\u001b[1;32m      <a href='vscode-notebook-cell://ssh-remote%2B7b22686f73744e616d65223a2252535f50726f78794a756d70227d/home/chao_lab/SynologyDrive/chaolab_AI_path/unbiased_teacher2/train_net2.ipynb#X15sdnNjb2RlLXJlbW90ZQ%3D%3D?line=6'>7</a>\u001b[0m \u001b[39mprint\u001b[39m(fmt)\n\u001b[0;32m----> <a href='vscode-notebook-cell://ssh-remote%2B7b22686f73744e616d65223a2252535f50726f78794a756d70227d/home/chao_lab/SynologyDrive/chaolab_AI_path/unbiased_teacher2/train_net2.ipynb#X15sdnNjb2RlLXJlbW90ZQ%3D%3D?line=7'>8</a>\u001b[0m coords \u001b[39m=\u001b[39m get_box(json_file, tissue_types)[\u001b[39m'\u001b[39;49m\u001b[39mcoordinates\u001b[39;49m\u001b[39m'\u001b[39;49m]\n\u001b[1;32m      <a href='vscode-notebook-cell://ssh-remote%2B7b22686f73744e616d65223a2252535f50726f78794a756d70227d/home/chao_lab/SynologyDrive/chaolab_AI_path/unbiased_teacher2/train_net2.ipynb#X15sdnNjb2RlLXJlbW90ZQ%3D%3D?line=8'>9</a>\u001b[0m name \u001b[39m=\u001b[39m get_box(json_file, tissue_types)[\u001b[39m'\u001b[39m\u001b[39mname\u001b[39m\u001b[39m'\u001b[39m]\n\u001b[1;32m     <a href='vscode-notebook-cell://ssh-remote%2B7b22686f73744e616d65223a2252535f50726f78794a756d70227d/home/chao_lab/SynologyDrive/chaolab_AI_path/unbiased_teacher2/train_net2.ipynb#X15sdnNjb2RlLXJlbW90ZQ%3D%3D?line=9'>10</a>\u001b[0m coco_format \u001b[39m=\u001b[39m []\n",
      "\u001b[0;31mTypeError\u001b[0m: list indices must be integers or slices, not str"
     ]
    }
   ],
   "source": [
    "get_coco_format(train_sample, json_file, tissue_types)"
   ]
  }
 ],
 "metadata": {
  "kernelspec": {
   "display_name": "AI_path",
   "language": "python",
   "name": "python3"
  },
  "language_info": {
   "codemirror_mode": {
    "name": "ipython",
    "version": 3
   },
   "file_extension": ".py",
   "mimetype": "text/x-python",
   "name": "python",
   "nbconvert_exporter": "python",
   "pygments_lexer": "ipython3",
   "version": "3.9.18"
  }
 },
 "nbformat": 4,
 "nbformat_minor": 2
}
